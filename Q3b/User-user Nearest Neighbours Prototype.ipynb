{
 "cells": [
  {
   "cell_type": "code",
   "execution_count": 30,
   "metadata": {},
   "outputs": [],
   "source": [
    "import numpy as np\n",
    "import pandas as pd\n",
    "\n",
    "from pandas.api.types import CategoricalDtype\n",
    "from scipy.sparse import csr_matrix, hstack, vstack\n",
    "from sklearn.preprocessing import normalize\n",
    "from tqdm.notebook import tqdm\n",
    "from sklearn.neighbors import NearestNeighbors\n",
    "from sklearn.preprocessing import MinMaxScaler\n",
    "\n",
    "pd.set_option('display.float_format', lambda x: '%.3f' % x)"
   ]
  },
  {
   "cell_type": "code",
   "execution_count": 2,
   "metadata": {},
   "outputs": [],
   "source": [
    "user_plays = pd.read_csv('usersha1-artmbid-artname-plays.tsv', sep='\\t', header=None)\n",
    "user_profiles = pd.read_csv('usersha1-profile.tsv', sep='\\t', header=None)"
   ]
  },
  {
   "cell_type": "code",
   "execution_count": 3,
   "metadata": {},
   "outputs": [],
   "source": [
    "user_plays.columns = ['user-mboxsha1', 'musicbrainz-artist-id', 'artist-name', 'plays']\n",
    "user_profiles.columns = ['user-mboxsha1', 'gender', 'age', 'country', 'signup']"
   ]
  },
  {
   "cell_type": "markdown",
   "metadata": {},
   "source": [
    "### Keep only Female user for development"
   ]
  },
  {
   "cell_type": "code",
   "execution_count": 4,
   "metadata": {},
   "outputs": [],
   "source": [
    "# keep only female users\n",
    "user_profiles = user_profiles[user_profiles['gender']=='f']"
   ]
  },
  {
   "cell_type": "code",
   "execution_count": 5,
   "metadata": {},
   "outputs": [],
   "source": [
    "user_plays = user_plays[user_plays['user-mboxsha1'].isin(user_profiles['user-mboxsha1'].unique())]"
   ]
  },
  {
   "cell_type": "markdown",
   "metadata": {},
   "source": [
    "### Sample 10% of data for development\n",
    "running the following program on all data takes around 30 minutes. Here we take 10% for demonstration/development purpose."
   ]
  },
  {
   "cell_type": "code",
   "execution_count": 6,
   "metadata": {},
   "outputs": [],
   "source": [
    "SAMPLE = True\n",
    "sample_size = 0.1\n",
    "if SAMPLE:\n",
    "    user_profiles = user_profiles.sample(frac=sample_size)\n",
    "    user_plays = user_plays[user_plays['user-mboxsha1'].isin(user_profiles['user-mboxsha1'].unique())]"
   ]
  },
  {
   "cell_type": "markdown",
   "metadata": {},
   "source": [
    "### Quick EDA"
   ]
  },
  {
   "cell_type": "code",
   "execution_count": 7,
   "metadata": {},
   "outputs": [
    {
     "data": {
      "text/plain": "           plays\ncount 409174.000\nmean     191.331\nstd      544.804\nmin        1.000\n25%       32.000\n50%       85.000\n75%      198.000\nmax    85629.000",
      "text/html": "<div>\n<style scoped>\n    .dataframe tbody tr th:only-of-type {\n        vertical-align: middle;\n    }\n\n    .dataframe tbody tr th {\n        vertical-align: top;\n    }\n\n    .dataframe thead th {\n        text-align: right;\n    }\n</style>\n<table border=\"1\" class=\"dataframe\">\n  <thead>\n    <tr style=\"text-align: right;\">\n      <th></th>\n      <th>plays</th>\n    </tr>\n  </thead>\n  <tbody>\n    <tr>\n      <th>count</th>\n      <td>409174.000</td>\n    </tr>\n    <tr>\n      <th>mean</th>\n      <td>191.331</td>\n    </tr>\n    <tr>\n      <th>std</th>\n      <td>544.804</td>\n    </tr>\n    <tr>\n      <th>min</th>\n      <td>1.000</td>\n    </tr>\n    <tr>\n      <th>25%</th>\n      <td>32.000</td>\n    </tr>\n    <tr>\n      <th>50%</th>\n      <td>85.000</td>\n    </tr>\n    <tr>\n      <th>75%</th>\n      <td>198.000</td>\n    </tr>\n    <tr>\n      <th>max</th>\n      <td>85629.000</td>\n    </tr>\n  </tbody>\n</table>\n</div>"
     },
     "execution_count": 7,
     "metadata": {},
     "output_type": "execute_result"
    }
   ],
   "source": [
    "user_plays.describe()"
   ]
  },
  {
   "cell_type": "code",
   "execution_count": 8,
   "metadata": {},
   "outputs": [
    {
     "data": {
      "text/plain": "                                   user-mboxsha1  \\\ncount                                     409174   \nunique                                      8482   \ntop     4ddafccadfb57dfd1096f615ed67816c41512464   \nfreq                                          99   \n\n                       musicbrainz-artist-id artist-name  \ncount                                 403745      409173  \nunique                                 39638       45492  \ntop     cc197bad-dc9c-440d-a5b5-d52ba2e14234    coldplay  \nfreq                                    1992        1992  ",
      "text/html": "<div>\n<style scoped>\n    .dataframe tbody tr th:only-of-type {\n        vertical-align: middle;\n    }\n\n    .dataframe tbody tr th {\n        vertical-align: top;\n    }\n\n    .dataframe thead th {\n        text-align: right;\n    }\n</style>\n<table border=\"1\" class=\"dataframe\">\n  <thead>\n    <tr style=\"text-align: right;\">\n      <th></th>\n      <th>user-mboxsha1</th>\n      <th>musicbrainz-artist-id</th>\n      <th>artist-name</th>\n    </tr>\n  </thead>\n  <tbody>\n    <tr>\n      <th>count</th>\n      <td>409174</td>\n      <td>403745</td>\n      <td>409173</td>\n    </tr>\n    <tr>\n      <th>unique</th>\n      <td>8482</td>\n      <td>39638</td>\n      <td>45492</td>\n    </tr>\n    <tr>\n      <th>top</th>\n      <td>4ddafccadfb57dfd1096f615ed67816c41512464</td>\n      <td>cc197bad-dc9c-440d-a5b5-d52ba2e14234</td>\n      <td>coldplay</td>\n    </tr>\n    <tr>\n      <th>freq</th>\n      <td>99</td>\n      <td>1992</td>\n      <td>1992</td>\n    </tr>\n  </tbody>\n</table>\n</div>"
     },
     "execution_count": 8,
     "metadata": {},
     "output_type": "execute_result"
    }
   ],
   "source": [
    "user_plays.describe(include='O')"
   ]
  },
  {
   "cell_type": "markdown",
   "metadata": {},
   "source": [
    "there are more unique artist-name than musicbrainz-artist-id. Looks like some artist names share the same musicbrainz-artist-id"
   ]
  },
  {
   "cell_type": "code",
   "execution_count": 9,
   "metadata": {},
   "outputs": [
    {
     "data": {
      "text/plain": "                                      artist-name\nmusicbrainz-artist-id                            \n01726f9b-6e54-48e5-af05-871678ce7d1c            4\n01a547e8-4b6f-4734-a1b7-7b4d767900db            3\n01e10b31-ae0f-49a6-b4f4-5c3dcff9788a            3\n04124bb0-1f13-468c-817d-af9a0e7d3a50            5\n0460fa37-b2e9-4607-b295-5654ff51cd35            4",
      "text/html": "<div>\n<style scoped>\n    .dataframe tbody tr th:only-of-type {\n        vertical-align: middle;\n    }\n\n    .dataframe tbody tr th {\n        vertical-align: top;\n    }\n\n    .dataframe thead th {\n        text-align: right;\n    }\n</style>\n<table border=\"1\" class=\"dataframe\">\n  <thead>\n    <tr style=\"text-align: right;\">\n      <th></th>\n      <th>artist-name</th>\n    </tr>\n    <tr>\n      <th>musicbrainz-artist-id</th>\n      <th></th>\n    </tr>\n  </thead>\n  <tbody>\n    <tr>\n      <th>01726f9b-6e54-48e5-af05-871678ce7d1c</th>\n      <td>4</td>\n    </tr>\n    <tr>\n      <th>01a547e8-4b6f-4734-a1b7-7b4d767900db</th>\n      <td>3</td>\n    </tr>\n    <tr>\n      <th>01e10b31-ae0f-49a6-b4f4-5c3dcff9788a</th>\n      <td>3</td>\n    </tr>\n    <tr>\n      <th>04124bb0-1f13-468c-817d-af9a0e7d3a50</th>\n      <td>5</td>\n    </tr>\n    <tr>\n      <th>0460fa37-b2e9-4607-b295-5654ff51cd35</th>\n      <td>4</td>\n    </tr>\n  </tbody>\n</table>\n</div>"
     },
     "execution_count": 9,
     "metadata": {},
     "output_type": "execute_result"
    }
   ],
   "source": [
    "grouped = user_plays[['musicbrainz-artist-id', 'artist-name']].groupby(['musicbrainz-artist-id']).nunique()\n",
    "grouped[grouped['artist-name'] > 2].head()"
   ]
  },
  {
   "cell_type": "code",
   "execution_count": 10,
   "metadata": {},
   "outputs": [
    {
     "data": {
      "text/plain": "array(['Руки вверх!', 'Руки Вверх', 'ryki vverh', 'Руки в верх'],\n      dtype=object)"
     },
     "execution_count": 10,
     "metadata": {},
     "output_type": "execute_result"
    }
   ],
   "source": [
    "user_plays[user_plays['musicbrainz-artist-id'] == grouped[grouped['artist-name'] > 2].iloc[0].name]['artist-name'].unique()"
   ]
  },
  {
   "cell_type": "markdown",
   "metadata": {},
   "source": [
    "Looks like its due to different spelling/punctuation, we should use the id to distinguish between artists"
   ]
  },
  {
   "cell_type": "code",
   "execution_count": 11,
   "metadata": {},
   "outputs": [
    {
     "name": "stdout",
     "output_type": "stream",
     "text": [
      "<class 'pandas.core.frame.DataFrame'>\n",
      "Int64Index: 409174 entries, 4594 to 17534267\n",
      "Data columns (total 4 columns):\n",
      " #   Column                 Non-Null Count   Dtype \n",
      "---  ------                 --------------   ----- \n",
      " 0   user-mboxsha1          409174 non-null  object\n",
      " 1   musicbrainz-artist-id  403745 non-null  object\n",
      " 2   artist-name            409173 non-null  object\n",
      " 3   plays                  409174 non-null  int64 \n",
      "dtypes: int64(1), object(3)\n",
      "memory usage: 15.6+ MB\n"
     ]
    }
   ],
   "source": [
    "user_plays.info()"
   ]
  },
  {
   "cell_type": "code",
   "execution_count": 12,
   "metadata": {},
   "outputs": [
    {
     "data": {
      "text/plain": "user-mboxsha1               0\nmusicbrainz-artist-id    5429\nartist-name                 1\nplays                       0\ndtype: int64"
     },
     "execution_count": 12,
     "metadata": {},
     "output_type": "execute_result"
    }
   ],
   "source": [
    "user_plays.isna().sum()"
   ]
  },
  {
   "cell_type": "code",
   "execution_count": 13,
   "metadata": {},
   "outputs": [],
   "source": [
    "# simply drop NaNs as the data volumne is quite large (4 million rows compare to ~50,000 rows of NaNs)\n",
    "user_plays.dropna(inplace=True)"
   ]
  },
  {
   "cell_type": "code",
   "execution_count": 14,
   "metadata": {},
   "outputs": [
    {
     "data": {
      "text/plain": "(403744, 4)"
     },
     "execution_count": 14,
     "metadata": {},
     "output_type": "execute_result"
    }
   ],
   "source": [
    "user_plays.shape"
   ]
  },
  {
   "cell_type": "markdown",
   "metadata": {},
   "source": [
    "### Data preprocessing"
   ]
  },
  {
   "cell_type": "code",
   "execution_count": 15,
   "metadata": {},
   "outputs": [],
   "source": [
    "users = list(np.sort(user_plays['user-mboxsha1'].unique()))\n",
    "artists = list(user_plays['musicbrainz-artist-id'].unique())\n",
    "plays = list(user_plays['plays'])"
   ]
  },
  {
   "cell_type": "code",
   "execution_count": 16,
   "metadata": {},
   "outputs": [],
   "source": [
    "rows = user_plays['user-mboxsha1'].astype(CategoricalDtype(categories=users)).cat.codes\n",
    "cols = user_plays['musicbrainz-artist-id'].astype(CategoricalDtype(categories=artists)).cat.codes\n",
    "plays_sparse = csr_matrix((plays, (rows, cols)), shape=(len(users), len(artists)))"
   ]
  },
  {
   "cell_type": "markdown",
   "metadata": {},
   "source": [
    "Dimensions are very high so here we use csr matrix"
   ]
  },
  {
   "cell_type": "code",
   "execution_count": 17,
   "metadata": {},
   "outputs": [],
   "source": [
    "users_that_never_listened_to_any_songs = list(set(user_profiles['user-mboxsha1'].unique()) - set(user_plays['user-mboxsha1'].unique()))"
   ]
  },
  {
   "cell_type": "code",
   "execution_count": 18,
   "metadata": {},
   "outputs": [],
   "source": [
    "# vstack with users that never listened to any songs (we put the average plays vector for these people)\n",
    "plays_sparse = vstack((plays_sparse , csr_matrix(np.tile(plays_sparse.mean(axis=0), (len(users_that_never_listened_to_any_songs), 1)))))"
   ]
  },
  {
   "cell_type": "markdown",
   "metadata": {},
   "source": [
    "some users have never listened to any songs, we fill in the average plays vector for these users (Global baseline approach)"
   ]
  },
  {
   "cell_type": "code",
   "execution_count": 19,
   "metadata": {},
   "outputs": [],
   "source": [
    "user_profiles.drop(['gender', 'signup'], axis=1, inplace=True)"
   ]
  },
  {
   "cell_type": "markdown",
   "metadata": {},
   "source": [
    "dropping gender and signup date as we are only dealing with female users only and signup date should not be a factor that can help distinguish user preference."
   ]
  },
  {
   "cell_type": "code",
   "execution_count": 20,
   "metadata": {},
   "outputs": [],
   "source": [
    "user_profiles.loc[(user_profiles.age>100)|(user_profiles.age<0), 'age'] = user_profiles.age.mean()"
   ]
  },
  {
   "cell_type": "markdown",
   "metadata": {},
   "source": [
    "There are very large and negative values for age, replace them with the mean, here we assume these are inaccurate values"
   ]
  },
  {
   "cell_type": "code",
   "execution_count": 21,
   "metadata": {},
   "outputs": [],
   "source": [
    "user_profiles['age'].fillna(user_profiles.age.mean(), inplace=True)"
   ]
  },
  {
   "cell_type": "markdown",
   "metadata": {},
   "source": [
    "some user has not specified their age, here we fill nan with the mean"
   ]
  },
  {
   "cell_type": "code",
   "execution_count": 22,
   "metadata": {},
   "outputs": [],
   "source": [
    "processed_user_profiles = pd.merge(user_profiles.drop(['country', 'user-mboxsha1'], axis=1), pd.get_dummies(user_profiles['country']), left_index=True, right_index=True)"
   ]
  },
  {
   "cell_type": "markdown",
   "metadata": {},
   "source": [
    "Use one-hot encoding for countries. Do not use label encoding as that will give countries order, and also some kind of distance in the feature space."
   ]
  },
  {
   "cell_type": "code",
   "execution_count": 23,
   "metadata": {},
   "outputs": [],
   "source": [
    "mms = MinMaxScaler()\n",
    "processed_user_profiles['age'] = mms.fit_transform(processed_user_profiles['age'].to_numpy().reshape(-1, 1))"
   ]
  },
  {
   "cell_type": "code",
   "execution_count": 24,
   "metadata": {},
   "outputs": [],
   "source": [
    "# normalise the plays of each user, as some user are frequent users and some aren't.\n",
    "normalized_plays_sparse = normalize(plays_sparse, norm='l1', axis=1)\n",
    "X = hstack((normalized_plays_sparse, csr_matrix(processed_user_profiles)))"
   ]
  },
  {
   "cell_type": "markdown",
   "metadata": {},
   "source": [
    "here we normalize the plays to balance frequent users and non-frequent users, as frequent users usually have much more plays. Normalizating each row will make sure the preference is fair to be compared. The user profile is stacked with the csr matrix to form the input data for our model."
   ]
  },
  {
   "cell_type": "markdown",
   "metadata": {},
   "source": [
    "### Nearest Neighbours Model"
   ]
  },
  {
   "cell_type": "code",
   "execution_count": 25,
   "metadata": {},
   "outputs": [],
   "source": [
    "# n_neighbors can be tuned to consider more neighbors\n",
    "nbrs = NearestNeighbors(n_neighbors=100, n_jobs=-1).fit(X)\n",
    "distances, indices = nbrs.kneighbors(X)"
   ]
  },
  {
   "cell_type": "code",
   "execution_count": 26,
   "metadata": {},
   "outputs": [
    {
     "data": {
      "text/plain": "array([[   0, 3027, 7111, ..., 1457, 8251, 7100],\n       [   1, 5763, 5832, ..., 4840, 4707, 8478],\n       [   2, 5896, 4080, ..., 4799, 4221, 8030],\n       ...,\n       [8490, 1938, 3607, ..., 4049, 8377, 3310],\n       [8491, 8486, 3172, ..., 3874, 1365, 4057],\n       [8492, 8484, 2962, ..., 5196, 7069, 2247]], dtype=int64)"
     },
     "execution_count": 26,
     "metadata": {},
     "output_type": "execute_result"
    }
   ],
   "source": [
    "indices"
   ]
  },
  {
   "cell_type": "code",
   "execution_count": 27,
   "metadata": {},
   "outputs": [
    {
     "data": {
      "text/plain": "array([[0.        , 0.2388725 , 0.24023269, ..., 0.28518627, 0.28580433,\n        0.28606168],\n       [0.        , 0.22131211, 0.22502863, ..., 0.24894273, 0.24894664,\n        0.24895929],\n       [0.        , 0.22789906, 0.23215735, ..., 0.31854941, 0.32137542,\n        0.32252755],\n       ...,\n       [0.        , 0.12933415, 0.13349742, ..., 0.18911138, 0.18997919,\n        0.19022093],\n       [0.        , 0.03030303, 0.14351687, ..., 0.17194213, 0.17199341,\n        0.17229742],\n       [0.        , 0.01010101, 0.13500174, ..., 0.19485232, 0.19523769,\n        0.19557231]])"
     },
     "execution_count": 27,
     "metadata": {},
     "output_type": "execute_result"
    }
   ],
   "source": [
    "distances"
   ]
  },
  {
   "cell_type": "markdown",
   "metadata": {},
   "source": [
    "indices is an 2D array where each row is a \"neighbourhood\". i.e. the nearest neighbors of the item in the 0 index for each row.\n",
    "\n",
    "distances is another 2D array where each row stores the distance (distance in feature space) from the 0 indexed item in indices to other items"
   ]
  },
  {
   "cell_type": "markdown",
   "metadata": {},
   "source": [
    "### Predict the normalised plays for each user"
   ]
  },
  {
   "cell_type": "code",
   "execution_count": 28,
   "metadata": {},
   "outputs": [
    {
     "data": {
      "text/plain": "  0%|          | 0/8493 [00:00<?, ?it/s]",
      "application/vnd.jupyter.widget-view+json": {
       "version_major": 2,
       "version_minor": 0,
       "model_id": "e07ff6e9d2024f5f969f6a17205db937"
      }
     },
     "metadata": {},
     "output_type": "display_data"
    }
   ],
   "source": [
    "artists = np.array(artists)\n",
    "all_users = users + users_that_never_listened_to_any_songs\n",
    "max_distance = distances.max()\n",
    "\n",
    "recommendations = {}\n",
    "number_of_recommendations = 20\n",
    "for user, distance in tqdm(zip(indices, distances), total=len(distances)):\n",
    "    \n",
    "    # use distances as weights to make closer neighbours to contribute more to the prediction\n",
    "    weights = 1 - (distance[1:] / max_distance)\n",
    "    \n",
    "    # predict the user's plays on all artists\n",
    "    predicted_user_preference = normalized_plays_sparse[user[1:]].multiply(weights[:, np.newaxis]).mean(axis=0).A[0]\n",
    "    \n",
    "    # get artists that the user already listened to\n",
    "    true_user_preference = plays_sparse[user[0]].A[0]\n",
    "    artists_already_listened_to = np.where(true_user_preference!=0)\n",
    "\n",
    "    # change the value of artists already listened to to 0 to prevent recommendation\n",
    "    predicted_user_preference[artists_already_listened_to] = 0\n",
    "    \n",
    "    # get top artists for this user\n",
    "    recommended_artists = artists[predicted_user_preference.argsort()[-number_of_recommendations:][::-1]]\n",
    "    \n",
    "    # save artists for this user\n",
    "    recommendations[all_users[user[0]]] = list(recommended_artists)"
   ]
  },
  {
   "cell_type": "markdown",
   "metadata": {},
   "source": [
    "### How to recommend artists to users\n",
    "The generated dictionary contains recommendations for each user. It can then be written to a database that support fast reads (e.g. DynamoDB).\n",
    "The keys are the user ids and the value are the lists of artist ids.\n",
    "\n",
    "This can be used for example:\n",
    "- when a user renders the view of the app/webpage, the app/webserver fetch the user's recommendations from the database and display the artists"
   ]
  },
  {
   "cell_type": "code",
   "execution_count": 29,
   "metadata": {},
   "outputs": [
    {
     "name": "stdout",
     "output_type": "stream",
     "text": [
      "example values in recommendations\n"
     ]
    },
    {
     "data": {
      "text/plain": "{'000fff7e107172b2fdee439636daccf8287b34a7': ['b10bbbfc-cf9e-42e0-be17-e2c3e1d2600d',\n  'cc197bad-dc9c-440d-a5b5-d52ba2e14234',\n  '9c9f1380-2516-4fc9-a3e6-f9f61941d090',\n  '95e1ead9-4d31-4808-a7ac-32c3614c116b',\n  '0039c7ae-e1a7-4a7d-9b49-0cbc716821a6',\n  'c0b2500e-0cef-4130-869d-732b23ed9df5',\n  '6ffb8ea9-2370-44d8-b678-e9237bbd347b',\n  'f82f3a3e-29c2-42ca-b589-bc5dc210fa9e',\n  '8bfac288-ccc5-448d-9573-c33ea2aa5c30',\n  '8c538f11-c141-4588-8ecb-931083524186',\n  '83d91898-7763-47d7-b03b-b92132375c47',\n  'ff6e677f-91dd-4986-a174-8db0474b1799',\n  '73e5e69d-3554-40d8-8516-00cb38737a1c',\n  '45a663b5-b1cb-4a91-bff6-2bef7bbfdd76',\n  'aa7a2827-f74b-473c-bd79-03d065835cf7',\n  '87c5dedd-371d-4a53-9f7f-80522fb7f3cb',\n  '39ab1aed-75e0-4140-bd47-540276886b60',\n  'f1b525b4-ddd0-4d39-85b2-d8fa26a7f279',\n  'a7bdc71f-697a-45d9-92b2-a01fbbe50272',\n  'dfe9a7c4-8cf2-47f4-9dcb-d233c2b86ec3'],\n '00210ff162f0b1f2197b2add462ac17b07bf91f6': ['b10bbbfc-cf9e-42e0-be17-e2c3e1d2600d',\n  '69ee3720-a7cb-4402-b48d-a02c366f2bcf',\n  'a74b1b7f-71a5-4011-9441-d0b5e4122711',\n  '72c536dc-7137-4477-a521-567eeb840fa8',\n  'd13f0f47-36f9-4661-87fe-2de56f45c649',\n  '83d91898-7763-47d7-b03b-b92132375c47',\n  'cc197bad-dc9c-440d-a5b5-d52ba2e14234',\n  '9c9f1380-2516-4fc9-a3e6-f9f61941d090',\n  'e5c7b94f-e264-473c-bb0f-37c85d4d5c70',\n  '85af0709-95db-4fbc-801a-120e9f4766d0',\n  '6ffb8ea9-2370-44d8-b678-e9237bbd347b',\n  '6e0c7c0e-cba5-4c2c-a652-38f71ef5785d',\n  '40f5d9e4-2de7-4f2d-ad41-e31a9a9fea27',\n  '44cf61b8-5197-448a-b82b-cef6ee89fac5',\n  'b071f9fa-14b0-4217-8e97-eb41da73f598',\n  '00a9f935-ba93-4fc8-a33a-993abe9c936b',\n  '0383dadf-2a4e-4d10-a46a-e9e041da8eb3',\n  '8bfac288-ccc5-448d-9573-c33ea2aa5c30',\n  '9a709693-b4f8-4da9-8cc1-038c911a61be',\n  '67f66c07-6e61-4026-ade5-7e782fad3a5d'],\n '00285441919bf128f353a3fe622d3cd7ecca3372': ['b10bbbfc-cf9e-42e0-be17-e2c3e1d2600d',\n  'cc197bad-dc9c-440d-a5b5-d52ba2e14234',\n  'dfe9a7c4-8cf2-47f4-9dcb-d233c2b86ec3',\n  'f82f3a3e-29c2-42ca-b589-bc5dc210fa9e',\n  '95e1ead9-4d31-4808-a7ac-32c3614c116b',\n  'fbb375f9-48bb-4635-824e-4120273b3ba7',\n  '8bfac288-ccc5-448d-9573-c33ea2aa5c30',\n  '87c5dedd-371d-4a53-9f7f-80522fb7f3cb',\n  '44cf61b8-5197-448a-b82b-cef6ee89fac5',\n  '9c9f1380-2516-4fc9-a3e6-f9f61941d090',\n  'e5c7b94f-e264-473c-bb0f-37c85d4d5c70',\n  'ada7a83c-e3e1-40f1-93f9-3e73dbc9298a',\n  'b9472588-93f3-4922-a1a2-74082cdf9ce8',\n  '97b1142f-c71e-4971-8736-4a8ceaf6b4c3',\n  'f1b525b4-ddd0-4d39-85b2-d8fa26a7f279',\n  '05755bf1-380c-487f-983f-d1a02401fa28',\n  'ff6e677f-91dd-4986-a174-8db0474b1799',\n  'ed2ac1e9-d51d-4eff-a2c2-85e81abd6360',\n  '72c536dc-7137-4477-a521-567eeb840fa8',\n  '83d91898-7763-47d7-b03b-b92132375c47'],\n '002a496f237af0e58c246f92115a1ee6bee3dd87': ['b10bbbfc-cf9e-42e0-be17-e2c3e1d2600d',\n  'a74b1b7f-71a5-4011-9441-d0b5e4122711',\n  '95e1ead9-4d31-4808-a7ac-32c3614c116b',\n  'b7ffd2af-418f-4be2-bdd1-22f8b48613da',\n  'aa7a2827-f74b-473c-bd79-03d065835cf7',\n  'fbb375f9-48bb-4635-824e-4120273b3ba7',\n  'e5c7b94f-e264-473c-bb0f-37c85d4d5c70',\n  '78f797e3-4913-4026-aad0-1cd858bd735b',\n  '5441c29d-3602-4898-b1a1-b77fa23b8e50',\n  '0039c7ae-e1a7-4a7d-9b49-0cbc716821a6',\n  '69ee3720-a7cb-4402-b48d-a02c366f2bcf',\n  '87c5dedd-371d-4a53-9f7f-80522fb7f3cb',\n  'd13f0f47-36f9-4661-87fe-2de56f45c649',\n  'f82f3a3e-29c2-42ca-b589-bc5dc210fa9e',\n  '40f5d9e4-2de7-4f2d-ad41-e31a9a9fea27',\n  'f6f2326f-6b25-4170-b89d-e235b25508e8',\n  '8c538f11-c141-4588-8ecb-931083524186',\n  '7dc8f5bd-9d0b-4087-9f73-dc164950bbd8',\n  'f181961b-20f7-459e-89de-920ef03c7ed0',\n  '44cf61b8-5197-448a-b82b-cef6ee89fac5'],\n '003b5215fb95fed1b92ca3b0672046b066185cf3': ['b10bbbfc-cf9e-42e0-be17-e2c3e1d2600d',\n  'a74b1b7f-71a5-4011-9441-d0b5e4122711',\n  '0039c7ae-e1a7-4a7d-9b49-0cbc716821a6',\n  'cc197bad-dc9c-440d-a5b5-d52ba2e14234',\n  '8f6bd1e4-fbe1-4f50-aa9b-94c450ec0f11',\n  '87c5dedd-371d-4a53-9f7f-80522fb7f3cb',\n  'bf710b71-48e5-4e15-9bd6-96debb2e4e98',\n  'f1b525b4-ddd0-4d39-85b2-d8fa26a7f279',\n  '1c70a3fc-fa3c-4be1-8b55-c3192db8a884',\n  '01d3c51b-9b98-418a-8d8e-37f6fab59d8c',\n  '9c9f1380-2516-4fc9-a3e6-f9f61941d090',\n  'dfe9a7c4-8cf2-47f4-9dcb-d233c2b86ec3',\n  'f6f2326f-6b25-4170-b89d-e235b25508e8',\n  '8538e728-ca0b-4321-b7e5-cff6565dd4c0',\n  'c3f28da8-662d-4f09-bdc7-3084bf685930',\n  '6c8b9855-ba8b-48f9-ac1d-42167f7f7b18',\n  '10adbe5e-a2c0-4bf3-8249-2b4cbf6e6ca8',\n  '03ad1736-b7c9-412a-b442-82536d63a5c4',\n  'a96ac800-bfcb-412a-8a63-0a98df600700',\n  '985c709c-7771-4de3-9024-7bda29ebe3f9']}"
     },
     "execution_count": 29,
     "metadata": {},
     "output_type": "execute_result"
    }
   ],
   "source": [
    "print('example values in recommendations')\n",
    "{k:recommendations[k] for k in list(recommendations.keys())[:5]}"
   ]
  },
  {
   "cell_type": "markdown",
   "metadata": {},
   "source": [
    "### Further improvements:\n",
    "- Currently this method is user to user. There are other ways such as item to item and even hybrid.\n",
    "- The are better models, such as using factorization machines\n",
    "- Can try deep models such as DeepFM/VAEs/GNNs, VAEs and GNNs seem to be current state-of-the-art models for recommendation systems"
   ]
  }
 ],
 "metadata": {
  "kernelspec": {
   "display_name": "Python 3",
   "language": "python",
   "name": "python3"
  },
  "language_info": {
   "codemirror_mode": {
    "name": "ipython",
    "version": 3
   },
   "file_extension": ".py",
   "mimetype": "text/x-python",
   "name": "python",
   "nbconvert_exporter": "python",
   "pygments_lexer": "ipython3",
   "version": "3.8.6"
  }
 },
 "nbformat": 4,
 "nbformat_minor": 4
}